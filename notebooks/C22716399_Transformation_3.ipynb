{
 "cells": [
  {
   "cell_type": "code",
   "execution_count": null,
   "id": "24f6e190-3dfa-49af-8dab-0dd4ae27f25a",
   "metadata": {},
   "outputs": [],
   "source": [
    "# Student Name: Aaron Baggot\n",
    "# Student Number: C22716399\n",
    "# Transformations Task 3 - Orange and Water"
   ]
  },
  {
   "cell_type": "code",
   "execution_count": null,
   "id": "704aae3e-b73b-4a4e-b957-1941e0e6ccb5",
   "metadata": {},
   "outputs": [],
   "source": [
    "# This section is resizing and combine side by side"
   ]
  },
  {
   "cell_type": "code",
   "execution_count": null,
   "id": "0868c7b0-3ec0-4a84-8bdb-867814574f4e",
   "metadata": {},
   "outputs": [],
   "source": [
    "import glob\n",
    "import cv2\n",
    "import numpy as np\n",
    "from matplotlib import pyplot as plt\n",
    "from pathlib import Path\n",
    "\n",
    "print(glob.glob(\"data/samples/*\"))"
   ]
  },
  {
   "cell_type": "code",
   "execution_count": null,
   "id": "ba589ed9-e317-4fe6-b399-b49178cd62e6",
   "metadata": {},
   "outputs": [],
   "source": [
    "# Open Image Orange and Water\n",
    "\n",
    "img_1 = Path(\"/Users/aaronbaggot/Desktop/image-processing-labs/data/samples/orange.png\")\n",
    "img_2 = Path(\"/Users/aaronbaggot/Desktop/image-processing-labs/data/samples/water.jpg\")\n",
    "A = cv2.imread(str(img_1))\n",
    "B = cv2.imread(str(img_2))\n",
    "\n",
    "if A is None:\n",
    "    raise exception(\"Image not found\")\n",
    "\n",
    "    if B is None:\n",
    "        raise exception(\"Image not found\")\n",
    "        "
   ]
  },
  {
   "cell_type": "code",
   "execution_count": null,
   "id": "30078e37-cfdd-4bc5-bc11-59bd9e60b5b3",
   "metadata": {},
   "outputs": [],
   "source": [
    "\n",
    "B = cv2.resize(B, (A.shape[1], A.shape[0]))"
   ]
  },
  {
   "cell_type": "code",
   "execution_count": null,
   "id": "2082709c-e2fc-4059-9a80-464da439172f",
   "metadata": {},
   "outputs": [],
   "source": [
    "combine = np.hstack((A, B))\n",
    "\n",
    "combine_rgb = cv2.cvtColor(combine, cv2.COLOR_BGR2RGB)"
   ]
  },
  {
   "cell_type": "code",
   "execution_count": null,
   "id": "42593f72-a413-4c40-a0bc-71bee22affcb",
   "metadata": {},
   "outputs": [],
   "source": [
    "plt.imshow(combine_rgb)\n",
    "plt.axis(\"off\")\n",
    "plt.title(\"Orange and Water Side by Side\")\n",
    "plt.show()"
   ]
  },
  {
   "cell_type": "code",
   "execution_count": null,
   "id": "4e2d9ec0-e580-4531-8d32-57ce28465e1c",
   "metadata": {},
   "outputs": [],
   "source": []
  },
  {
   "cell_type": "code",
   "execution_count": null,
   "id": "1cc5e012-6d27-49ec-a865-696ec20a393d",
   "metadata": {},
   "outputs": [],
   "source": [
    "# This section resizes both images to 512"
   ]
  },
  {
   "cell_type": "code",
   "execution_count": null,
   "id": "428f4c53-c57c-45c0-a1b0-f9d5a0ca70f5",
   "metadata": {},
   "outputs": [],
   "source": [
    "import glob\n",
    "import cv2\n",
    "import numpy as np\n",
    "from matplotlib import pyplot as plt\n",
    "from pathlib import Path\n",
    "print(glob.glob(\"data/samples/*\"))"
   ]
  },
  {
   "cell_type": "code",
   "execution_count": null,
   "id": "30041c8f-e380-465b-a1a7-18678f3019e2",
   "metadata": {},
   "outputs": [],
   "source": [
    "# Open Image Orange and Water\n",
    "\n",
    "img_1 = Path(\"/Users/aaronbaggot/Desktop/image-processing-labs/data/samples/orange.png\")\n",
    "img_2 = Path(\"/Users/aaronbaggot/Desktop/image-processing-labs/data/samples/water.jpg\")\n",
    "I1 = cv2.imread(str(img_1))\n",
    "I2 = cv2.imread(str(img_2))\n",
    "print(I1.shape)\n",
    "print(I2.shape)\n",
    "\n",
    "if I1 is None or I2 is None:\n",
    "    raise exception(\"One or both images not found\")\n",
    "\n",
    "    "
   ]
  },
  {
   "cell_type": "code",
   "execution_count": null,
   "id": "ad728de4-f92e-45eb-a6eb-190e8e008eb3",
   "metadata": {},
   "outputs": [],
   "source": [
    "\n",
    "# Resize both to 512 x 512\n",
    "resized_img_1 = cv2.resize(I1, (512, 512), interpolation=cv2.INTER_LINEAR)\n",
    "resized_img_2 = cv2.resize(I2, (512, 512), interpolation=cv2.INTER_LINEAR)\n",
    "\n",
    "orange_rgb = cv2.cvtColor(resized_img_1, cv2.COLOR_BGR2RGB)\n",
    "water_rgb = cv2.cvtColor(resized_img_2, cv2.COLOR_BGR2RGB)\n"
   ]
  },
  {
   "cell_type": "code",
   "execution_count": null,
   "id": "51f5d3d5-ccd8-4fd4-a34f-725cff4aad09",
   "metadata": {},
   "outputs": [],
   "source": [
    "plt.subplot(1, 2, 1)\n",
    "plt.imshow(orange_rgb)\n",
    "plt.title(\"Orange\")\n",
    "plt.axis(\"off\")\n",
    "\n",
    "plt.subplot(1, 2, 2)\n",
    "plt.imshow(water_rgb)\n",
    "plt.title(\"Water\")\n",
    "plt.axis(\"off\")\n",
    "\n",
    "plt.show\n",
    "\n"
   ]
  },
  {
   "cell_type": "code",
   "execution_count": null,
   "id": "ccd2322c-162b-4d94-997b-891f6f498f05",
   "metadata": {},
   "outputs": [],
   "source": [
    "# The following is scaling the images to 50% - 0.5 "
   ]
  },
  {
   "cell_type": "code",
   "execution_count": null,
   "id": "03b069ec-566c-4003-82dc-ac14a936a5a0",
   "metadata": {},
   "outputs": [],
   "source": [
    "import glob\n",
    "import cv2\n",
    "import numpy as np\n",
    "from matplotlib import pyplot as plt\n",
    "from pathlib import Path\n",
    "print(glob.glob(\"data/samples/*\"))\n",
    "\n",
    "# Open Image Orange and Water\n",
    "\n",
    "img_1 = Path(\"/Users/aaronbaggot/Desktop/image-processing-labs/data/samples/orange.png\")\n",
    "img_2 = Path(\"/Users/aaronbaggot/Desktop/image-processing-labs/data/samples/water.jpg\")\n",
    "I1 = cv2.imread(str(img_1))\n",
    "I2 = cv2.imread(str(img_2))\n",
    "print(I1.shape)\n",
    "print(I2.shape)\n",
    "\n",
    "if I1 is None or I2 is None:\n",
    "    raise exception(\"One or both images not found\")\n",
    "\n",
    "\n",
    "# Resize both to 512 x 512\n",
    "resized_img_1 = cv2.resize(I1, (512, 512), interpolation=cv2.INTER_LINEAR)\n",
    "resized_img_2 = cv2.resize(I2, (512, 512), interpolation=cv2.INTER_LINEAR)\n",
    "\n",
    "orange_rgb = cv2.cvtColor(resized_img_1, cv2.COLOR_BGR2RGB)\n",
    "water_rgb = cv2.cvtColor(resized_img_2, cv2.COLOR_BGR2RGB)\n",
    "\n",
    "\n",
    "    \n",
    "# Get the shape of the image\n",
    "\n",
    "h, w, d = I1.shape\n",
    "print(f\"Original dimensions: {w}x{h}, Channels: {d}\")\n",
    "\n",
    "# Scale by factor no cropping\n",
    "scale_factor = 0.5\n",
    "S1 = cv2.resize(I1, None, fx=scale_factor, fy=scale_factor, interpolation=cv2.INTER_LINEAR)\n",
    "S2 = cv2.resize(I2, None, fx=scale_factor, fy=scale_factor, interpolation=cv2.INTER_LINEAR)\n",
    "\n",
    "print(f\"Scaled dimensions: {S1.shape[1]}x{S1.shape[0]}\")\n",
    "\n",
    "\n",
    "cv2.imshow(\"Scaled Orange (50%)\", S1)\n",
    "cv2.imshow(\"Scaled Water (50%)\", S2)\n",
    "cv2.waitKey(0)\n",
    "cv2.destroyAllWindows()\n",
    "\n",
    "\n",
    "\n"
   ]
  },
  {
   "cell_type": "code",
   "execution_count": null,
   "id": "c13e406d-adff-403b-826f-f796c26dec56",
   "metadata": {},
   "outputs": [],
   "source": []
  },
  {
   "cell_type": "code",
   "execution_count": null,
   "id": "06190570-45f3-4404-897e-e20fedc73ecc",
   "metadata": {},
   "outputs": [],
   "source": [
    "# This section creates a composite image by adding the two scaled images"
   ]
  },
  {
   "cell_type": "code",
   "execution_count": null,
   "id": "57bb94c0-5654-4da7-8dd1-b712b35045f6",
   "metadata": {},
   "outputs": [],
   "source": [
    "import glob\n",
    "import cv2\n",
    "import numpy as np\n",
    "from matplotlib import pyplot as plt\n",
    "from pathlib import Path\n",
    "print(glob.glob(\"data/samples/*\"))\n",
    "\n",
    "# Open Image Orange and Water\n",
    "\n",
    "img_1 = Path(\"/Users/aaronbaggot/Desktop/image-processing-labs/data/samples/orange.png\")\n",
    "img_2 = Path(\"/Users/aaronbaggot/Desktop/image-processing-labs/data/samples/water.jpg\")\n",
    "I1 = cv2.imread(str(img_1))\n",
    "I2 = cv2.imread(str(img_2))\n",
    "print(I1.shape)\n",
    "print(I2.shape)\n",
    "\n",
    "if I1 is None or I2 is None:\n",
    "    raise exception(\"One or both images not found\")\n",
    "\n",
    "\n",
    "# Resize both to 512 x 512\n",
    "resized_img_1 = cv2.resize(I1, (512, 512), interpolation=cv2.INTER_LINEAR)\n",
    "resized_img_2 = cv2.resize(I2, (512, 512), interpolation=cv2.INTER_LINEAR)\n",
    "\n",
    "orange_rgb = cv2.cvtColor(resized_img_1, cv2.COLOR_BGR2RGB)\n",
    "water_rgb = cv2.cvtColor(resized_img_2, cv2.COLOR_BGR2RGB)\n",
    "\n",
    "\n",
    "    \n",
    "# Get the shape of the image\n",
    "\n",
    "h, w, d = I1.shape\n",
    "print(f\"Original dimensions: {w}x{h}, Channels: {d}\")\n",
    "\n",
    "# Scale by factor no cropping\n",
    "scale_factor = 0.5\n",
    "S1 = cv2.resize(I1, None, fx=scale_factor, fy=scale_factor, interpolation=cv2.INTER_LINEAR)\n",
    "S2 = cv2.resize(I2, None, fx=scale_factor, fy=scale_factor, interpolation=cv2.INTER_LINEAR)\n",
    "\n",
    "print(f\"Scaled dimensions: {S1.shape[1]}x{S1.shape[0]}\")\n",
    "\n",
    "\n",
    "# Scale down both images 50%\n",
    "I1_scaled = cv2.convertScaleAbs(I1, alpha=0.5)\n",
    "I2_scaled = cv2.convertScaleAbs(I2, alpha=0.5)\n",
    "\n",
    "# Add them together - 0.5 + 0.5 = 1.0\n",
    "A = cv2.add(I1_scaled, I2_scaled)\n",
    "\n",
    "\n",
    "cv2.imshow(\" Added \", A)\n",
    "\n",
    "cv2.waitKey(0)\n",
    "cv2.destroyAllWindows()"
   ]
  },
  {
   "cell_type": "code",
   "execution_count": null,
   "id": "1fefd753-ac3f-4037-9719-ac6569b18765",
   "metadata": {},
   "outputs": [],
   "source": []
  },
  {
   "cell_type": "code",
   "execution_count": null,
   "id": "be0bc44d-b6b9-44de-ac27-de796222ca42",
   "metadata": {},
   "outputs": [],
   "source": []
  },
  {
   "cell_type": "code",
   "execution_count": null,
   "id": "4e214fee-60dd-400a-95f1-2e42b692b080",
   "metadata": {},
   "outputs": [],
   "source": []
  },
  {
   "cell_type": "code",
   "execution_count": 1,
   "id": "adf3bc44-7db1-4c15-964d-5fdac1aad724",
   "metadata": {},
   "outputs": [],
   "source": [
    "# This section is using the addWeighted function\n",
    "\n",
    "# Using the addWeighted taken from https://docs.opencv.org/3.4/d5/dc4/tutorial_adding_images.html\n",
    "# src1 – first input array.\n",
    "# alpha – weight of the first array elements.\n",
    "# src2 – second input array of the same size and channel number as src1.\n",
    "# beta – weight of the second array elements.\n",
    "# dst – output array that has the same size and number of channels as the input arrays.\n",
    "# gamma – scalar added to each sum.\n",
    "# dtype – optional depth of the output array; when both input arrays have the same depth \n",
    "# dtype can be set to -1, which will be equivalent to src1.depth().\n",
    "#  addWeighted( src1, alpha, src2, beta, 0.0, dst);\n",
    "\n"
   ]
  },
  {
   "cell_type": "code",
   "execution_count": null,
   "id": "ab1f119b-7177-400b-8d4a-db2dbee8a8f6",
   "metadata": {},
   "outputs": [],
   "source": []
  },
  {
   "cell_type": "code",
   "execution_count": null,
   "id": "118e07b8-83f4-4754-afe4-793c602c93db",
   "metadata": {},
   "outputs": [
    {
     "name": "stdout",
     "output_type": "stream",
     "text": [
      "[]\n",
      "(360, 640, 3)\n",
      "(360, 640, 3)\n",
      "Original dimensions: 640x360, Channels: 3\n",
      "Scaled dimensions: 320x180\n"
     ]
    }
   ],
   "source": [
    "import glob\n",
    "import cv2\n",
    "import numpy as np\n",
    "from matplotlib import pyplot as plt\n",
    "from pathlib import Path\n",
    "print(glob.glob(\"data/samples/*\"))\n",
    "\n",
    "# Open Image Orange and Water\n",
    "\n",
    "img_1 = Path(\"/Users/aaronbaggot/Desktop/image-processing-labs/data/samples/orange.png\")\n",
    "img_2 = Path(\"/Users/aaronbaggot/Desktop/image-processing-labs/data/samples/water.jpg\")\n",
    "I1 = cv2.imread(str(img_1))\n",
    "I2 = cv2.imread(str(img_2))\n",
    "print(I1.shape)\n",
    "print(I2.shape)\n",
    "\n",
    "if I1 is None or I2 is None:\n",
    "    raise exception(\"One or both images not found\")\n",
    "\n",
    "\n",
    "# Resize both to 512 x 512\n",
    "resized_img_1 = cv2.resize(I1, (512, 512), interpolation=cv2.INTER_LINEAR)\n",
    "resized_img_2 = cv2.resize(I2, (512, 512), interpolation=cv2.INTER_LINEAR)\n",
    "\n",
    "orange_rgb = cv2.cvtColor(resized_img_1, cv2.COLOR_BGR2RGB)\n",
    "water_rgb = cv2.cvtColor(resized_img_2, cv2.COLOR_BGR2RGB)\n",
    "\n",
    "\n",
    "    \n",
    "# Get the shape of the image\n",
    "\n",
    "h, w, d = I1.shape\n",
    "print(f\"Original dimensions: {w}x{h}, Channels: {d}\")\n",
    "\n",
    "# Scale by factor no cropping\n",
    "scale_factor = 0.5\n",
    "S1 = cv2.resize(I1, None, fx=scale_factor, fy=scale_factor, interpolation=cv2.INTER_LINEAR)\n",
    "S2 = cv2.resize(I2, None, fx=scale_factor, fy=scale_factor, interpolation=cv2.INTER_LINEAR)\n",
    "\n",
    "print(f\"Scaled dimensions: {S1.shape[1]}x{S1.shape[0]}\")\n",
    "\n",
    "\n",
    "# Scale down both images 50%\n",
    "I1_scaled = cv2.convertScaleAbs(I1, alpha=0.5)\n",
    "I2_scaled = cv2.convertScaleAbs(I2, alpha=0.5)\n",
    "\n",
    "# Add weighted section\n",
    "alpha = 0.6\n",
    "beta = 0.5\n",
    "\n",
    "A = cv2.addWeighted(I1, alpha, I2, beta, 0)\n",
    "\n",
    "\n",
    "cv2.imshow(\" Blended Output \", A)\n",
    "\n",
    "cv2.waitKey(0)\n",
    "cv2.destroyAllWindows()"
   ]
  },
  {
   "cell_type": "code",
   "execution_count": null,
   "id": "e7dbe088-5ddd-4034-a77d-7cba4ed121ff",
   "metadata": {},
   "outputs": [],
   "source": []
  },
  {
   "cell_type": "code",
   "execution_count": null,
   "id": "f7c54212-a723-4fcc-b47f-b46003410223",
   "metadata": {},
   "outputs": [],
   "source": []
  },
  {
   "cell_type": "code",
   "execution_count": null,
   "id": "690e4df3-277c-4fcc-afac-f81355bfb015",
   "metadata": {},
   "outputs": [],
   "source": []
  },
  {
   "cell_type": "code",
   "execution_count": null,
   "id": "8316e3f4-361e-4f2f-8daa-f17dfabb50ad",
   "metadata": {},
   "outputs": [],
   "source": []
  },
  {
   "cell_type": "code",
   "execution_count": null,
   "id": "3ce1abc4-2c94-4b69-9799-39d3973f1750",
   "metadata": {},
   "outputs": [],
   "source": []
  },
  {
   "cell_type": "code",
   "execution_count": null,
   "id": "4e89ecef-16f4-45f5-bcb5-08a1718fc3d4",
   "metadata": {},
   "outputs": [],
   "source": []
  },
  {
   "cell_type": "code",
   "execution_count": null,
   "id": "c8849ca6-ff79-4d9d-99af-51882d79bec8",
   "metadata": {},
   "outputs": [],
   "source": []
  },
  {
   "cell_type": "code",
   "execution_count": null,
   "id": "673b82f3-4ffb-4c69-a16c-54a4374fde7a",
   "metadata": {},
   "outputs": [],
   "source": []
  },
  {
   "cell_type": "code",
   "execution_count": null,
   "id": "a5ea2cc4-fc75-4cc0-86e3-81fd5ac708b7",
   "metadata": {},
   "outputs": [],
   "source": []
  }
 ],
 "metadata": {
  "kernelspec": {
   "display_name": "Python 3 (ipykernel)",
   "language": "python",
   "name": "python3"
  },
  "language_info": {
   "codemirror_mode": {
    "name": "ipython",
    "version": 3
   },
   "file_extension": ".py",
   "mimetype": "text/x-python",
   "name": "python",
   "nbconvert_exporter": "python",
   "pygments_lexer": "ipython3",
   "version": "3.13.7"
  }
 },
 "nbformat": 4,
 "nbformat_minor": 5
}
