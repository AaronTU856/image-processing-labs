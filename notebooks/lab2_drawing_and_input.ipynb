{
 "cells": [
  {
   "cell_type": "code",
   "execution_count": 1,
   "id": "46ff5a6a-4ae9-438f-a351-399f7588ea0a",
   "metadata": {},
   "outputs": [],
   "source": [
    "# Import and Image loading"
   ]
  },
  {
   "cell_type": "code",
   "execution_count": 2,
   "id": "b4d95e80-7a32-41d7-9aca-487d40fafb94",
   "metadata": {},
   "outputs": [
    {
     "name": "stdout",
     "output_type": "stream",
     "text": [
      "Found images: ['../data/samples/horse.jpg', '../data/samples/Mountains_Scotland.jpg', '../data/samples/Screenshot 2025-09-23 at 18.36.31.png']\n",
      "Shape: (3000, 2318, 3)\n",
      "Saved edited image as ../output/horse_yuv_box.jpg\n"
     ]
    }
   ],
   "source": [
    "import cv2\n",
    "import numpy as np\n",
    "import glob\n",
    "import os\n",
    "\n",
    "# look in my samples folder for any jpg or png\n",
    "files = glob.glob(\"../data/samples/*.jpg\") + glob.glob(\"../data/samples/*.png\")\n",
    "print(\"Found images:\", files)\n",
    "\n",
    "if not files:\n",
    "    raise Exception(\"No images found in data/samples/\")\n",
    "\n",
    "# for this test I just pick horse.jpg instead of first file\n",
    "I = cv2.imread(\"../data/samples/horse.jpg\")\n",
    "\n",
    "# make a copy so I can draw on it without messing up original\n",
    "I_copy = I.copy()\n",
    "\n",
    "print(\"Shape:\", I.shape)\n",
    "\n",
    "# function to run when I click on the image\n",
    "def draw_square(event, x, y, flags, param):\n",
    "    global I_copy\n",
    "    if event == cv2.EVENT_LBUTTONDOWN:\n",
    "        # work out top left and bottom right of a 201x201 box\n",
    "        x1, y1 = x-100, y-100\n",
    "        x2, y2 = x+100, y+100\n",
    "\n",
    "        # keep square inside the image edges\n",
    "        x1, y1 = max(x1,0), max(y1,0)\n",
    "        x2, y2 = min(x2,I_copy.shape[1]-1), min(y2,I_copy.shape[0]-1)\n",
    "\n",
    "        # draw a red square around click\n",
    "        cv2.rectangle(I_copy, (x1,y1), (x2,y2), (0,0,255), 5)\n",
    "\n",
    "        # convert inside box to YUV\n",
    "        roi = I_copy[y1:y2, x1:x2]\n",
    "        roi_yuv = cv2.cvtColor(roi, cv2.COLOR_BGR2YUV)\n",
    "        I_copy[y1:y2, x1:x2] = roi_yuv\n",
    "\n",
    "        # update window\n",
    "        cv2.imshow(\"image\", I_copy)\n",
    "\n",
    "# make window and set callback\n",
    "cv2.namedWindow(\"image\")\n",
    "cv2.setMouseCallback(\"image\", draw_square)\n",
    "\n",
    "# keep window open until I press q\n",
    "while True:\n",
    "    cv2.imshow(\"image\", I_copy)\n",
    "    key = cv2.waitKey(1) & 0xFF\n",
    "    if key == ord(\"q\"):\n",
    "        break\n",
    "\n",
    "cv2.destroyAllWindows()\n",
    "\n",
    "# make sure output folder exists\n",
    "os.makedirs(\"../output\", exist_ok=True)\n",
    "\n",
    "# save final image into output folder\n",
    "cv2.imwrite(\"../output/horse_yuv_box.jpg\", I_copy)\n",
    "print(\"Saved edited image as ../output/horse_yuv_box.jpg\")\n"
   ]
  },
  {
   "cell_type": "code",
   "execution_count": null,
   "id": "eb30e69d-335c-4f00-b70a-606c1161c68c",
   "metadata": {},
   "outputs": [],
   "source": []
  },
  {
   "cell_type": "code",
   "execution_count": null,
   "id": "b048b51a-c15f-43cd-82a9-ffefd16fa12a",
   "metadata": {},
   "outputs": [],
   "source": []
  }
 ],
 "metadata": {
  "kernelspec": {
   "display_name": "Python 3 (ipykernel)",
   "language": "python",
   "name": "python3"
  },
  "language_info": {
   "codemirror_mode": {
    "name": "ipython",
    "version": 3
   },
   "file_extension": ".py",
   "mimetype": "text/x-python",
   "name": "python",
   "nbconvert_exporter": "python",
   "pygments_lexer": "ipython3",
   "version": "3.13.7"
  }
 },
 "nbformat": 4,
 "nbformat_minor": 5
}
