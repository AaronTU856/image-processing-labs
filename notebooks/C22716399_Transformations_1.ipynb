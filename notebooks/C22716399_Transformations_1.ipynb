{
 "cells": [
  {
   "cell_type": "code",
   "execution_count": null,
   "id": "68396dc2-109d-498d-b266-3d0903bef65b",
   "metadata": {},
   "outputs": [],
   "source": [
    "# Student Number: C22716399\n",
    "# Student Name: Aaron Baggot\n",
    "# Transformation Task 1\n"
   ]
  },
  {
   "cell_type": "code",
   "execution_count": null,
   "id": "8b472980-1ad9-4069-8f7d-332241d1cca4",
   "metadata": {},
   "outputs": [],
   "source": [
    "import cv2\n",
    "import numpy as np\n",
    "from matplotlib import pyplot as plt\n",
    "from pathlib import path"
   ]
  },
  {
   "cell_type": "code",
   "execution_count": null,
   "id": "9a337350-2e14-4ce1-8f02-7dc5b8ea76c1",
   "metadata": {},
   "outputs": [],
   "source": [
    "# Open the image war.png\n",
    "img path = path(\" \")\n",
    "i = cv2.imread(str(img_path), cv2.IMREAD_GRAYSCALE # Open image in greyscale"
   ]
  },
  {
   "cell_type": "code",
   "execution_count": null,
   "id": "9a4f6eff-d32b-45c1-bc75-afa0179a8b60",
   "metadata": {},
   "outputs": [],
   "source": [
    "if i is None:\n",
    "    raise exception(f\"Image not found: {img_path}\")"
   ]
  }
 ],
 "metadata": {
  "kernelspec": {
   "display_name": "Python 3 (ipykernel)",
   "language": "python",
   "name": "python3"
  },
  "language_info": {
   "codemirror_mode": {
    "name": "ipython",
    "version": 3
   },
   "file_extension": ".py",
   "mimetype": "text/x-python",
   "name": "python",
   "nbconvert_exporter": "python",
   "pygments_lexer": "ipython3",
   "version": "3.13.7"
  }
 },
 "nbformat": 4,
 "nbformat_minor": 5
}
