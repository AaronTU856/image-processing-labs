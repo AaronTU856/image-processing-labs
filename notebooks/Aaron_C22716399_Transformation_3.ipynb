{
 "cells": [
  {
   "cell_type": "code",
   "execution_count": null,
   "id": "24f6e190-3dfa-49af-8dab-0dd4ae27f25a",
   "metadata": {},
   "outputs": [],
   "source": [
    "# Student Name: Aaron Baggot\n",
    "# Student Number: C22716399\n",
    "# Transformations Task 3 - Orange and Water"
   ]
  },
  {
   "cell_type": "code",
   "execution_count": null,
   "id": "704aae3e-b73b-4a4e-b957-1941e0e6ccb5",
   "metadata": {},
   "outputs": [],
   "source": [
    "# This section is resizing and combine side by side"
   ]
  },
  {
   "cell_type": "code",
   "execution_count": null,
   "id": "2ea51f55-b4ec-4648-8db5-b3de88dd50d7",
   "metadata": {},
   "outputs": [],
   "source": [
    "import glob\n",
    "import cv2\n",
    "import numpy as np\n",
    "from matplotlib import pyplot as plt\n",
    "from pathlib import Path\n",
    "\n",
    "\n",
    "print(glob.glob(\"data/samples/*\"))"
   ]
  },
  {
   "cell_type": "code",
   "execution_count": null,
   "id": "493720ce-03e0-46b5-b5c0-6d3a02cbb8c3",
   "metadata": {},
   "outputs": [],
   "source": [
    "# Open Image Orange and Water\n",
    "\n",
    "img_1 = Path(\"/Users/aaronbaggot/Desktop/image-processing-labs/data/samples/orange.png\")\n",
    "img_2 = Path(\"/Users/aaronbaggot/Desktop/image-processing-labs/data/samples/water.jpg\")\n",
    "A = cv2.imread(str(img_1))\n",
    "B = cv2.imread(str(img_2))\n",
    "\n",
    "if A is None:\n",
    "    raise exception(\"Image not found\")\n",
    "\n",
    "    if B is None:\n",
    "        raise exception(\"Image not found\")\n"
   ]
  },
  {
   "cell_type": "code",
   "execution_count": null,
   "id": "0868c7b0-3ec0-4a84-8bdb-867814574f4e",
   "metadata": {},
   "outputs": [],
   "source": []
  },
  {
   "cell_type": "code",
   "execution_count": null,
   "id": "ba589ed9-e317-4fe6-b399-b49178cd62e6",
   "metadata": {},
   "outputs": [],
   "source": [
    "# Open Image Orange and Water\n",
    "\n",
    "img_1 = Path(\"/Users/aaronbaggot/Desktop/image-processing-labs/data/samples/orange.png\")\n",
    "img_2 = Path(\"/Users/aaronbaggot/Desktop/image-processing-labs/data/samples/water.jpg\")\n",
    "A = cv2.imread(str(img_1))\n",
    "B = cv2.imread(str(img_2))\n",
    "\n",
    "if A is None:\n",
    "    raise exception(\"Image not found\")\n",
    "\n",
    "    if B is None:\n",
    "        raise exception(\"Image not found\")\n",
    "\n",
    "B = cv2.resize(B, (A.shape[1], A.shape[0]))\n",
    "\n",
    "combine = np.hstack((A, B))\n",
    "\n",
    "combine_rgb = cv2.cvtColor(combine, cv2.COLOR_BGR2RGB)\n",
    "\n",
    "        "
   ]
  },
  {
   "cell_type": "code",
   "execution_count": null,
   "id": "30078e37-cfdd-4bc5-bc11-59bd9e60b5b3",
   "metadata": {},
   "outputs": [],
   "source": [
    "plt.imshow(combine_rgb)\n",
    "plt.axis(\"off\")\n",
    "plt.title(\"Orange and Water Side by Side\")\n",
    "plt.show()\n"
   ]
  },
  {
   "cell_type": "code",
   "execution_count": null,
   "id": "cd650b1e-388d-4859-a6ab-2eeef4cd3ff5",
   "metadata": {},
   "outputs": [],
   "source": []
  },
  {
   "cell_type": "code",
   "execution_count": null,
   "id": "42378969-ec30-407d-a924-8df5e86833b8",
   "metadata": {},
   "outputs": [],
   "source": []
  },
  {
   "cell_type": "code",
   "execution_count": null,
   "id": "2082709c-e2fc-4059-9a80-464da439172f",
   "metadata": {},
   "outputs": [],
   "source": [
    "import glob\n",
    "import cv2\n",
    "import numpy as np\n",
    "from matplotlib import pyplot as plt\n",
    "from pathlib import Path\n",
    "print(glob.glob(\"data/samples/*\"))\n",
    "\n",
    "# Open Image Orange and Water\n",
    "\n",
    "img_1 = Path(\"/Users/aaronbaggot/Desktop/image-processing-labs/data/samples/orange.png\")\n",
    "img_2 = Path(\"/Users/aaronbaggot/Desktop/image-processing-labs/data/samples/water.jpg\")\n",
    "I1 = cv2.imread(str(img_1))\n",
    "I2 = cv2.imread(str(img_2))\n",
    "print(I1.shape)\n",
    "print(I2.shape)\n",
    "\n",
    "if I1 is None or I2 is None:\n",
    "    raise exception(\"One or both images not found\")\n",
    "\n",
    "\n",
    "# Resize both to 512 x 512\n",
    "resized_img_1 = cv2.resize(I1, (512, 512), interpolation=cv2.INTER_LINEAR)\n",
    "resized_img_2 = cv2.resize(I2, (512, 512), interpolation=cv2.INTER_LINEAR)\n",
    "\n",
    "orange_rgb = cv2.cvtColor(resized_img_1, cv2.COLOR_BGR2RGB)\n",
    "water_rgb = cv2.cvtColor(resized_img_2, cv2.COLOR_BGR2RGB)\n",
    "\n",
    "\n",
    "plt.subplot(1, 2, 1)\n",
    "plt.imshow(orange_rgb)\n",
    "plt.title(\"Orange\")\n",
    "plt.axis(\"off\")\n",
    "\n",
    "plt.subplot(1, 2, 2)\n",
    "plt.imshow(water_rgb)\n",
    "plt.title(\"Water\")\n",
    "plt.axis(\"off\")\n",
    "\n",
    "plt.show\n",
    "\n"
   ]
  },
  {
   "cell_type": "code",
   "execution_count": null,
   "id": "42593f72-a413-4c40-a0bc-71bee22affcb",
   "metadata": {},
   "outputs": [],
   "source": []
  },
  {
   "cell_type": "code",
   "execution_count": null,
   "id": "e6372bd0-ed8e-4f51-90ec-b7d957fcbebd",
   "metadata": {},
   "outputs": [],
   "source": []
  },
  {
   "cell_type": "code",
   "execution_count": null,
   "id": "8eb257c5-76a4-4e47-9680-1a0ebfc55858",
   "metadata": {},
   "outputs": [],
   "source": [
    "# This section creates a composite image by adding the two scaled images"
   ]
  },
  {
   "cell_type": "code",
   "execution_count": null,
   "id": "846f125c-3334-4ee6-a846-93de32494520",
   "metadata": {},
   "outputs": [],
   "source": [
    "import glob\n",
    "import cv2\n",
    "import numpy as np\n",
    "from matplotlib import pyplot as plt\n",
    "from pathlib import Path\n",
    "print(glob.glob(\"data/samples/*\"))\n",
    "\n",
    "# Open Image Orange and Water\n",
    "\n",
    "img_1 = Path(\"/Users/aaronbaggot/Desktop/image-processing-labs/data/samples/orange.png\")\n",
    "img_2 = Path(\"/Users/aaronbaggot/Desktop/image-processing-labs/data/samples/water.jpg\")\n",
    "I1 = cv2.imread(str(img_1))\n",
    "I2 = cv2.imread(str(img_2))\n",
    "print(I1.shape)\n",
    "print(I2.shape)\n",
    "\n",
    "if I1 is None or I2 is None:\n",
    "    raise exception(\"One or both images not found\")\n",
    "\n",
    "\n",
    "# Resize both to 512 x 512\n",
    "resized_img_1 = cv2.resize(I1, (512, 512), interpolation=cv2.INTER_LINEAR)\n",
    "resized_img_2 = cv2.resize(I2, (512, 512), interpolation=cv2.INTER_LINEAR)\n",
    "\n",
    "orange_rgb = cv2.cvtColor(resized_img_1, cv2.COLOR_BGR2RGB)\n",
    "water_rgb = cv2.cvtColor(resized_img_2, cv2.COLOR_BGR2RGB)\n",
    "\n",
    "\n",
    "\n",
    "# Get the shape of the image\n",
    "\n",
    "h, w, d = I1.shape\n",
    "print(f\"Original dimensions: {w}x{h}, Channels: {d}\")\n",
    "\n",
    "# Scale by factor no cropping\n",
    "scale_factor = 0.5\n",
    "S1 = cv2.resize(I1, None, fx=scale_factor, fy=scale_factor, interpolation=cv2.INTER_LINEAR)\n",
    "S2 = cv2.resize(I2, None, fx=scale_factor, fy=scale_factor, interpolation=cv2.INTER_LINEAR)\n",
    "\n",
    "print(f\"Scaled dimensions: {S1.shape[1]}x{S1.shape[0]}\")\n",
    "\n",
    "\n",
    "# Scale down both images 50%\n",
    "I1_scaled = cv2.convertScaleAbs(I1, alpha=0.5)\n",
    "I2_scaled = cv2.convertScaleAbs(I2, alpha=0.5)\n",
    "\n",
    "# Add them together - 0.5 + 0.5 = 1.0\n",
    "A = cv2.add(I1_scaled, I2_scaled)\n",
    "\n",
    "\n",
    "cv2.imshow(\" Added \", A)\n",
    "\n",
    "cv2.waitKey(0)\n",
    "cv2.destroyAllWindows()"
   ]
  },
  {
   "cell_type": "code",
   "execution_count": null,
   "id": "fc082b14-b89a-4bf7-b1de-67336b9395c0",
   "metadata": {},
   "outputs": [],
   "source": []
  },
  {
   "cell_type": "code",
   "execution_count": null,
   "id": "1cc5e012-6d27-49ec-a865-696ec20a393d",
   "metadata": {},
   "outputs": [],
   "source": [
    "# Need to clear the kernel before running the folowing cell"
   ]
  },
  {
   "cell_type": "code",
   "execution_count": null,
   "id": "428f4c53-c57c-45c0-a1b0-f9d5a0ca70f5",
   "metadata": {},
   "outputs": [],
   "source": [
    "# This section is using the addWeighted function\n",
    "\n",
    "# Using the addWeighted taken from https://docs.opencv.org/3.4/d5/dc4/tutorial_adding_images.html\n",
    "# src1 – first input array.\n",
    "# alpha – weight of the first array elements.\n",
    "# src2 – second input array of the same size and channel number as src1.\n",
    "# beta – weight of the second array elements.\n",
    "# dst – output array that has the same size and number of channels as the input arrays.\n",
    "# gamma – scalar added to each sum.\n",
    "# dtype – optional depth of the output array; when both input arrays have the same depth \n",
    "# dtype can be set to -1, which will be equivalent to src1.depth().\n",
    "#  addWeighted( src1, alpha, src2, beta, 0.0, dst);\n"
   ]
  },
  {
   "cell_type": "code",
   "execution_count": null,
   "id": "51f5d3d5-ccd8-4fd4-a34f-725cff4aad09",
   "metadata": {},
   "outputs": [],
   "source": [
    "# The following sections are for testing and need to clear the kernel"
   ]
  },
  {
   "cell_type": "code",
   "execution_count": null,
   "id": "ccd2322c-162b-4d94-997b-891f6f498f05",
   "metadata": {},
   "outputs": [],
   "source": [
    "# The following is scaling the images to 50% - 0.5 "
   ]
  },
  {
   "cell_type": "code",
   "execution_count": null,
   "id": "03b069ec-566c-4003-82dc-ac14a936a5a0",
   "metadata": {},
   "outputs": [],
   "source": [
    "import glob\n",
    "import cv2\n",
    "import numpy as np\n",
    "from matplotlib import pyplot as plt\n",
    "from pathlib import Path\n",
    "print(glob.glob(\"data/samples/*\"))\n",
    "\n",
    "# Open Image Orange and Water\n",
    "\n",
    "img_1 = Path(\"/Users/aaronbaggot/Desktop/image-processing-labs/data/samples/orange.png\")\n",
    "img_2 = Path(\"/Users/aaronbaggot/Desktop/image-processing-labs/data/samples/water.jpg\")\n",
    "I1 = cv2.imread(str(img_1))\n",
    "I2 = cv2.imread(str(img_2))\n",
    "print(I1.shape)\n",
    "print(I2.shape)\n",
    "\n",
    "if I1 is None or I2 is None:\n",
    "    raise exception(\"One or both images not found\")\n",
    "\n",
    "\n",
    "# Resize both to 512 x 512\n",
    "resized_img_1 = cv2.resize(I1, (512, 512), interpolation=cv2.INTER_LINEAR)\n",
    "resized_img_2 = cv2.resize(I2, (512, 512), interpolation=cv2.INTER_LINEAR)\n",
    "\n",
    "orange_rgb = cv2.cvtColor(resized_img_1, cv2.COLOR_BGR2RGB)\n",
    "water_rgb = cv2.cvtColor(resized_img_2, cv2.COLOR_BGR2RGB)\n",
    "\n",
    "\n",
    "    \n",
    "# Get the shape of the image\n",
    "\n",
    "h, w, d = I1.shape\n",
    "print(f\"Original dimensions: {w}x{h}, Channels: {d}\")\n",
    "\n",
    "# Scale by factor no cropping\n",
    "scale_factor = 0.5\n",
    "S1 = cv2.resize(I1, None, fx=scale_factor, fy=scale_factor, interpolation=cv2.INTER_LINEAR)\n",
    "S2 = cv2.resize(I2, None, fx=scale_factor, fy=scale_factor, interpolation=cv2.INTER_LINEAR)\n",
    "\n",
    "print(f\"Scaled dimensions: {S1.shape[1]}x{S1.shape[0]}\")\n",
    "\n",
    "\n",
    "cv2.imshow(\"Scaled Orange (50%)\", S1)\n",
    "cv2.imshow(\"Scaled Water (50%)\", S2)\n",
    "cv2.waitKey(0)\n",
    "cv2.destroyAllWindows()\n",
    "\n",
    "\n",
    "\n"
   ]
  },
  {
   "cell_type": "code",
   "execution_count": null,
   "id": "f7c54212-a723-4fcc-b47f-b46003410223",
   "metadata": {},
   "outputs": [],
   "source": []
  },
  {
   "cell_type": "code",
   "execution_count": null,
   "id": "e6d64b94-6012-4136-93ce-f566f55afd48",
   "metadata": {},
   "outputs": [],
   "source": []
  }
 ],
 "metadata": {
  "kernelspec": {
   "display_name": "Python 3 (ipykernel)",
   "language": "python",
   "name": "python3"
  },
  "language_info": {
   "codemirror_mode": {
    "name": "ipython",
    "version": 3
   },
   "file_extension": ".py",
   "mimetype": "text/x-python",
   "name": "python",
   "nbconvert_exporter": "python",
   "pygments_lexer": "ipython3",
   "version": "3.13.7"
  }
 },
 "nbformat": 4,
 "nbformat_minor": 5
}
